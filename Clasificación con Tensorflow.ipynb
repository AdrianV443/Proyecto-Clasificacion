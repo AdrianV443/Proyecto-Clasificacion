{
 "cells": [
  {
   "cell_type": "markdown",
   "id": "02638df0-5580-4524-b768-1d487e695302",
   "metadata": {},
   "source": [
    "## Clasificacion con Tensorflow\n",
    "### Preprocesamiento de los datos"
   ]
  },
  {
   "cell_type": "code",
   "execution_count": 3,
   "id": "ed31be4a-a45c-4409-9b69-43975f30bd81",
   "metadata": {
    "scrolled": true
   },
   "outputs": [],
   "source": [
    "#Librerías\n",
    "import tensorflow as tf\n",
    "import numpy as np\n",
    "import pandas as pd\n",
    "#Datos\n",
    "csv_data = np.loadtxt('creditcard.csv',delimiter=',')\n",
    "#Datos filtrados\n",
    "filtered_data = csv_data[:,1: -1]\n",
    "csv_targets = csv_data[:, -1]"
   ]
  },
  {
   "cell_type": "markdown",
   "id": "1b0f99ec-adc8-404b-8bd6-8d3370d08995",
   "metadata": {},
   "source": [
    "## Balanceando el dataset"
   ]
  },
  {
   "cell_type": "code",
   "execution_count": 4,
   "id": "39eb4a26-cfd9-40d9-a5e4-061adf00372f",
   "metadata": {},
   "outputs": [],
   "source": [
    "#Contar cuantos clientes son \"1\" o deudores\n",
    "objetivos_uno = int(np.sum(csv_targets))\n",
    "#Contador de clientes \"0\" o no deudores\n",
    "contador_cero_objetivos = 0\n",
    "#Construyendo un dataset balanceado, tantos 0s como 1s\n",
    "indices_aremover = []\n",
    "\n",
    "for i in range(csv_targets.shape[0]):\n",
    "    if csv_targets[i] == 0:\n",
    "        contador_cero_objetivos += 1\n",
    "        if contador_cero_objetivos > objetivos_uno:\n",
    "            indices_aremover.append(i)\n",
    "            \n",
    "new_data_filtrada = np.delete(filtered_data, indices_aremover, axis=0)\n",
    "targets_new = np.delete(csv_targets, indices_aremover, axis=0)"
   ]
  },
  {
   "cell_type": "code",
   "execution_count": 5,
   "id": "93434461-8fe2-4795-9e14-7b89d3a5f6ba",
   "metadata": {},
   "outputs": [],
   "source": [
    "from sklearn import preprocessing\n",
    "#Estandarizamos todas las entradas (Nos puede ayudar a mejorar el modelo)\n",
    "estandarizadas = preprocessing.scale(new_data_filtrada)"
   ]
  },
  {
   "cell_type": "code",
   "execution_count": 6,
   "id": "ca12c84c-cff3-4d6f-a48a-648e58ffdf57",
   "metadata": {},
   "outputs": [],
   "source": [
    "#Permutamos nuestras entradas y objetivos\n",
    "indices_revueltos = np.arange(estandarizadas.shape[0])\n",
    "np.random.shuffle(indices_revueltos)\n",
    "#Creamos variables con entradas y objetivos aleatorizados\n",
    "entradas_revueltas = estandarizadas[indices_revueltos]\n",
    "objetivos_revueltos = targets_new[indices_revueltos]"
   ]
  },
  {
   "cell_type": "markdown",
   "id": "3039a583-847e-4238-85b2-81b3341de6ea",
   "metadata": {},
   "source": [
    "### Datso de Entrenamiento, Validación y Prueba"
   ]
  },
  {
   "cell_type": "code",
   "execution_count": 7,
   "id": "1c0a4e9e-fc67-4341-9254-53e03e08a256",
   "metadata": {},
   "outputs": [
    {
     "name": "stdout",
     "output_type": "stream",
     "text": [
      "386.0 787 0.49047013977128334\n",
      "52.0 98 0.5306122448979592\n",
      "54.0 99 0.5454545454545454\n"
     ]
    }
   ],
   "source": [
    "#Extraemos muestras para dividirlas en datos de entrenamiento, validación y prueba\n",
    "muestras = entradas_revueltas.shape[0]\n",
    "\n",
    "train_samples = int(0.8 * muestras)\n",
    "\n",
    "validation_samples = int(0.1 * muestras)\n",
    "\n",
    "test_samples = muestras - train_samples - validation_samples\n",
    "#Dataset de entrenamiento\n",
    "train_inputs = entradas_revueltas[:train_samples]\n",
    "train_targets = objetivos_revueltos[:train_samples]\n",
    "#Dataset de validacion\n",
    "validation_inputs = entradas_revueltas[train_samples:train_samples+validation_samples]\n",
    "validation_targets = objetivos_revueltos[train_samples:train_samples+validation_samples]\n",
    "#Dataset de prueba\n",
    "test_inputs = entradas_revueltas[train_samples+validation_samples:]\n",
    "test_targets = objetivos_revueltos[train_samples+validation_samples:]\n",
    "\n",
    "print(np.sum(train_targets), train_samples, np.sum(train_targets) / train_samples)\n",
    "print(np.sum(validation_targets), validation_samples, np.sum(validation_targets) / validation_samples)\n",
    "print(np.sum(test_targets), test_samples, np.sum(test_targets) / test_samples)"
   ]
  },
  {
   "cell_type": "markdown",
   "id": "13c8f39b-5d98-4282-b246-6b2b2685ec4f",
   "metadata": {},
   "source": [
    "## Creando la Red Neuronal y entrenando el modelo"
   ]
  },
  {
   "cell_type": "code",
   "execution_count": 8,
   "id": "9e8f0cda-f684-4914-b2d4-7f35e301386e",
   "metadata": {},
   "outputs": [
    {
     "name": "stdout",
     "output_type": "stream",
     "text": [
      "Epoch 1/1000\n",
      "25/25 - 0s - loss: 0.4969 - accuracy: 0.7802 - val_loss: 0.3570 - val_accuracy: 0.8878\n",
      "Epoch 2/1000\n",
      "25/25 - 0s - loss: 0.2868 - accuracy: 0.9047 - val_loss: 0.2599 - val_accuracy: 0.9082\n",
      "Epoch 3/1000\n",
      "25/25 - 0s - loss: 0.2182 - accuracy: 0.9238 - val_loss: 0.2031 - val_accuracy: 0.9286\n",
      "Epoch 4/1000\n",
      "25/25 - 0s - loss: 0.1799 - accuracy: 0.9403 - val_loss: 0.1798 - val_accuracy: 0.9388\n",
      "Epoch 5/1000\n",
      "25/25 - 0s - loss: 0.1521 - accuracy: 0.9479 - val_loss: 0.1606 - val_accuracy: 0.9286\n",
      "Epoch 6/1000\n",
      "25/25 - 0s - loss: 0.1353 - accuracy: 0.9543 - val_loss: 0.1461 - val_accuracy: 0.9388\n",
      "Epoch 7/1000\n",
      "25/25 - 0s - loss: 0.1240 - accuracy: 0.9555 - val_loss: 0.1340 - val_accuracy: 0.9490\n",
      "Epoch 8/1000\n",
      "25/25 - 0s - loss: 0.1153 - accuracy: 0.9606 - val_loss: 0.1276 - val_accuracy: 0.9592\n",
      "Epoch 9/1000\n",
      "25/25 - 0s - loss: 0.1067 - accuracy: 0.9682 - val_loss: 0.1293 - val_accuracy: 0.9388\n",
      "Epoch 10/1000\n",
      "25/25 - 0s - loss: 0.0997 - accuracy: 0.9670 - val_loss: 0.1193 - val_accuracy: 0.9694\n",
      "Epoch 11/1000\n",
      "25/25 - 0s - loss: 0.0935 - accuracy: 0.9670 - val_loss: 0.1168 - val_accuracy: 0.9592\n",
      "Epoch 12/1000\n",
      "25/25 - 0s - loss: 0.0894 - accuracy: 0.9708 - val_loss: 0.1161 - val_accuracy: 0.9694\n",
      "Epoch 13/1000\n",
      "25/25 - 0s - loss: 0.0850 - accuracy: 0.9695 - val_loss: 0.1101 - val_accuracy: 0.9694\n",
      "Epoch 14/1000\n",
      "25/25 - 0s - loss: 0.0825 - accuracy: 0.9720 - val_loss: 0.1112 - val_accuracy: 0.9592\n",
      "Epoch 15/1000\n",
      "25/25 - 0s - loss: 0.0802 - accuracy: 0.9720 - val_loss: 0.1101 - val_accuracy: 0.9694\n",
      "Epoch 16/1000\n",
      "25/25 - 0s - loss: 0.0754 - accuracy: 0.9746 - val_loss: 0.1120 - val_accuracy: 0.9592\n"
     ]
    }
   ],
   "source": [
    "input_size = 29 #Según las variables de entrada\n",
    "output_size = 2 #Según variables de salida\n",
    "hidden_layer_size = 50\n",
    "#Creación y entrenamiento del modelo\n",
    "model = tf.keras.Sequential([tf.keras.layers.Dense(hidden_layer_size, activation='relu'),\n",
    "                            tf.keras.layers.Dense(hidden_layer_size, activation='relu'),\n",
    "                            tf.keras.layers.Dense(output_size, activation='softmax')\n",
    "                            ])\n",
    "model.compile(optimizer='adam',\n",
    "              loss='sparse_categorical_crossentropy',\n",
    "             metrics=['accuracy'])\n",
    "#Mecanismo de parada temprana\n",
    "parada_temprana = tf.keras.callbacks.EarlyStopping(patience=3)\n",
    "\n",
    "historia = model.fit(train_inputs,\n",
    "                     train_targets,\n",
    "                     epochs=1000,\n",
    "                     callbacks=[parada_temprana],\n",
    "                     validation_data=(validation_inputs, validation_targets),\n",
    "                     verbose=2)"
   ]
  },
  {
   "cell_type": "markdown",
   "id": "0ba1ce47-e694-4d60-95df-081decf23752",
   "metadata": {},
   "source": [
    "## Observamos el comportamiento del modelo entrenado en un gráfico"
   ]
  },
  {
   "cell_type": "code",
   "execution_count": 9,
   "id": "65bb1ad3-0b54-4030-b69e-ab114fb34e4c",
   "metadata": {},
   "outputs": [
    {
     "data": {
      "text/plain": [
       "[<matplotlib.lines.Line2D at 0x1e58e4a64c0>]"
      ]
     },
     "execution_count": 9,
     "metadata": {},
     "output_type": "execute_result"
    },
    {
     "data": {
      "image/png": "[encoded data removed]",
      "text/plain": [
       "<Figure size 432x288 with 1 Axes>"
      ]
     },
     "metadata": {
      "needs_background": "light"
     },
     "output_type": "display_data"
    }
   ],
   "source": [
    "import matplotlib.pyplot as plt\n",
    "plt.xlabel(\"# Epoca\")\n",
    "plt.ylabel('Pérdida')\n",
    "plt.plot(historia.history['loss'])"
   ]
  },
  {
   "cell_type": "code",
   "execution_count": 10,
   "id": "3668a64c-1dac-407f-bf7e-f6bf5c13153c",
   "metadata": {},
   "outputs": [
    {
     "name": "stdout",
     "output_type": "stream",
     "text": [
      "4/4 [==============================] - 0s 0s/step - loss: 0.2043 - accuracy: 0.9192\n"
     ]
    }
   ],
   "source": [
    "test_loss, test_accuracy = model.evaluate(test_inputs, test_targets)"
   ]
  },
  {
   "cell_type": "code",
   "execution_count": 11,
   "id": "4e595e7e-1691-498b-b9db-c07ee6c6fb64",
   "metadata": {},
   "outputs": [
    {
     "name": "stdout",
     "output_type": "stream",
     "text": [
      "Pérdida: 0.20 \n",
      " Precisión: 91.92%\n"
     ]
    }
   ],
   "source": [
    "print(\"Pérdida: {0:.2f} \\n Precisión: {1:.2f}%\".format(test_loss, test_accuracy*100.))"
   ]
  },
  {
   "cell_type": "code",
   "execution_count": null,
   "id": "07ed2d1b-3873-4c0c-853a-80461bf24a7a",
   "metadata": {},
   "outputs": [],
   "source": []
  }
 ],
 "metadata": {
  "kernelspec": {
   "display_name": "Python 3",
   "language": "python",
   "name": "python3"
  },
  "language_info": {
   "codemirror_mode": {
    "name": "ipython",
    "version": 3
   },
   "file_extension": ".py",
   "mimetype": "text/x-python",
   "name": "python",
   "nbconvert_exporter": "python",
   "pygments_lexer": "ipython3",
   "version": "3.8.10"
  }
 },
 "nbformat": 4,
 "nbformat_minor": 5
}
